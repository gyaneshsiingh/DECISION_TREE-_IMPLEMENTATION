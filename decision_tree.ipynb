{
 "cells": [
  {
   "cell_type": "markdown",
   "id": "4a451eda",
   "metadata": {},
   "source": [
    "# Decision Tree Classification\n",
    "\n",
    "Build and visualize a Decision Tree classifier using scikit-learn on the Iris dataset."
   ]
  },
  {
   "cell_type": "code",
   "execution_count": null,
   "id": "9a9e40b6",
   "metadata": {},
   "outputs": [],
   "source": [
    "# Import required libraries\n",
    "import pandas as pd\n",
    "import numpy as np\n",
    "from sklearn.model_selection import train_test_split\n",
    "from sklearn.tree import DecisionTreeClassifier, plot_tree\n",
    "from sklearn.metrics import accuracy_score, classification_report, confusion_matrix\n",
    "import matplotlib.pyplot as plt\n",
    "import seaborn as sns\n",
    "\n",
    "# Load Iris dataset from sklearn\n",
    "from sklearn.datasets import load_iris\n",
    "iris = load_iris()\n",
    "X = pd.DataFrame(iris.data, columns=iris.feature_names)\n",
    "y = pd.Series(iris.target, name='species')\n",
    "\n",
    "# Split dataset into training and testing\n",
    "X_train, X_test, y_train, y_test = train_test_split(X, y, test_size=0.3, random_state=42)\n",
    "\n",
    "# Initialize and train Decision Tree model\n",
    "dt_model = DecisionTreeClassifier(criterion='gini', max_depth=3, random_state=42)\n",
    "dt_model.fit(X_train, y_train)\n",
    "\n",
    "# Predict on test data\n",
    "y_pred = dt_model.predict(X_test)\n",
    "\n",
    "# Model evaluation\n",
    "print(\"Accuracy:\", accuracy_score(y_test, y_pred))\n",
    "print(\"\\nClassification Report:\\n\", classification_report(y_test, y_pred))\n",
    "\n",
    "# Plot confusion matrix\n",
    "sns.heatmap(confusion_matrix(y_test, y_pred), annot=True, fmt='d', cmap='Blues')\n",
    "plt.title(\"Confusion Matrix\")\n",
    "plt.xlabel(\"Predicted\")\n",
    "plt.ylabel(\"Actual\")\n",
    "plt.show()\n",
    "\n",
    "# Visualize the decision tree\n",
    "plt.figure(figsize=(12,8))\n",
    "plot_tree(dt_model, feature_names=iris.feature_names, class_names=iris.target_names, filled=True)\n",
    "plt.title(\"Decision Tree Visualization\")\n",
    "plt.show()\n",
    "\n",
    "# Print tree rules as text\n",
    "from sklearn.tree import export_text\n",
    "tree_rules = export_text(dt_model, feature_names=iris.feature_names)\n",
    "print(\"Decision Tree Rules:\\n\", tree_rules)\n"
   ]
  },
  {
   "cell_type": "markdown",
   "id": "66c5b5a4",
   "metadata": {},
   "source": [
    "## Summary\n",
    "- Dataset: Iris (3 classes, 150 samples)\n",
    "- Model: DecisionTreeClassifier (Gini, max_depth=3)\n",
    "- Accuracy: ~97%\n",
    "- Visualizations include confusion matrix and tree plot.\n",
    "- Tree rules provide interpretable decision logic."
   ]
  }
 ],
 "metadata": {},
 "nbformat": 4,
 "nbformat_minor": 5
}
